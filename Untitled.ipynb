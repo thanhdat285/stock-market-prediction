{
 "cells": [
  {
   "cell_type": "code",
   "execution_count": 1,
   "metadata": {},
   "outputs": [
    {
     "name": "stderr",
     "output_type": "stream",
     "text": [
      "Using TensorFlow backend.\n"
     ]
    }
   ],
   "source": [
    "import numpy\n",
    "import matplotlib.pyplot as plt\n",
    "import pandas\n",
    "import math\n",
    "from keras.models import Sequential\n",
    "from keras.layers import Dense\n",
    "from keras.layers import LSTM\n",
    "from sklearn.preprocessing import MinMaxScaler\n",
    "from sklearn.metrics import mean_squared_error"
   ]
  },
  {
   "cell_type": "code",
   "execution_count": 2,
   "metadata": {
    "collapsed": true
   },
   "outputs": [],
   "source": [
    "def showGraph(data):\n",
    "    plt.plot(data)\n",
    "    plt.show()\n",
    "# convert dataset to x and y\n",
    "def create_dataset(dataset, look_back=1):\n",
    "    dataX, dataY = [], []\n",
    "    for i in range(len(dataset) - look_back - 1):\n",
    "        a = dataset[i:(i+look_back), 0]\n",
    "        dataX.append(a)\n",
    "        dataY.append(dataset[i + look_back, 0])\n",
    "    return numpy.array(dataX), numpy.array(dataY)\n",
    "def relative_error(xs, ys):\n",
    "    error = 0\n",
    "    zero = 0\n",
    "    for i in range(len(xs)):\n",
    "        if ys[i] != 0:\n",
    "            error += abs(xs[i]-ys[i])*100 / ys[i]\n",
    "        else:\n",
    "            zero += 1\n",
    "    error /= (len(xs) - zero)\n",
    "    return error"
   ]
  },
  {
   "cell_type": "code",
   "execution_count": 3,
   "metadata": {
    "collapsed": true
   },
   "outputs": [],
   "source": [
    "dataset = pandas.read_csv('data_stock_market.csv', usecols=[1])\n",
    "data_standard = dataset"
   ]
  },
  {
   "cell_type": "code",
   "execution_count": 4,
   "metadata": {},
   "outputs": [
    {
     "data": {
      "image/png": "[encoded data removed]",
      "text/plain": [
       "<matplotlib.figure.Figure at 0x1ed5a58eac8>"
      ]
     },
     "metadata": {},
     "output_type": "display_data"
    }
   ],
   "source": [
    "showGraph(dataset)"
   ]
  },
  {
   "cell_type": "code",
   "execution_count": 5,
   "metadata": {},
   "outputs": [],
   "source": [
    "# normalize the dataset\n",
    "scaler = MinMaxScaler(feature_range=(0, 1))\n",
    "dataset.loc[-1] = [max(dataset.values)*2]\n",
    "dataset = scaler.fit_transform(dataset)\n",
    "dataset = dataset[:-1]\n",
    "# showGraph(dataset)"
   ]
  },
  {
   "cell_type": "code",
   "execution_count": 6,
   "metadata": {
    "collapsed": true
   },
   "outputs": [],
   "source": [
    "# split into train set and test set\n",
    "train_size = int(len(dataset) * 0.67)\n",
    "# train_size = int(lent(dataset))\n",
    "test_size = len(dataset) - train_size\n",
    "train, test = dataset[0:train_size, :], dataset[train_size:len(dataset), :]"
   ]
  },
  {
   "cell_type": "code",
   "execution_count": 7,
   "metadata": {
    "collapsed": true
   },
   "outputs": [],
   "source": [
    "# showGraph(train)\n",
    "# showGraph(test)"
   ]
  },
  {
   "cell_type": "code",
   "execution_count": 8,
   "metadata": {
    "collapsed": true
   },
   "outputs": [],
   "source": [
    "look_back = 1\n",
    "trainX, trainY = create_dataset(train, look_back)\n",
    "testX, testY = create_dataset(test, look_back)"
   ]
  },
  {
   "cell_type": "code",
   "execution_count": 9,
   "metadata": {
    "collapsed": true
   },
   "outputs": [],
   "source": [
    "# This algorithm don't use LSTM network\n",
    "model = Sequential()\n",
    "model.add(Dense(1, input_dim=1))\n",
    "model.add(Dense(4, activation='sigmoid'))\n",
    "model.add(Dense(1))\n",
    "model.compile(loss='mean_squared_error', optimizer='adam')"
   ]
  },
  {
   "cell_type": "code",
   "execution_count": 10,
   "metadata": {},
   "outputs": [
    {
     "name": "stdout",
     "output_type": "stream",
     "text": [
      "Epoch 1/100\n",
      "783/783 [==============================] - 1s - loss: 0.0101     \n",
      "Epoch 2/100\n",
      "783/783 [==============================] - 1s - loss: 0.0015     \n",
      "Epoch 3/100\n",
      "783/783 [==============================] - 1s - loss: 6.4250e-04     \n",
      "Epoch 4/100\n",
      "783/783 [==============================] - 1s - loss: 1.1355e-04     \n",
      "Epoch 5/100\n",
      "783/783 [==============================] - 1s - loss: 2.8611e-05     \n",
      "Epoch 6/100\n",
      "783/783 [==============================] - 1s - loss: 2.8584e-05     \n",
      "Epoch 7/100\n",
      "783/783 [==============================] - 1s - loss: 2.8422e-05     \n",
      "Epoch 8/100\n",
      "783/783 [==============================] - 1s - loss: 2.9272e-05     \n",
      "Epoch 9/100\n",
      "783/783 [==============================] - 1s - loss: 3.0079e-05     \n",
      "Epoch 10/100\n",
      "783/783 [==============================] - 1s - loss: 3.1257e-05     \n",
      "Epoch 11/100\n",
      "783/783 [==============================] - 1s - loss: 3.2247e-05     \n",
      "Epoch 12/100\n",
      "783/783 [==============================] - 1s - loss: 3.3346e-05     - ETA: 0s - loss: 3.3573e-\n",
      "Epoch 13/100\n",
      "783/783 [==============================] - 0s - loss: 2.9969e-05     \n",
      "Epoch 14/100\n",
      "783/783 [==============================] - 0s - loss: 3.3237e-05     \n",
      "Epoch 15/100\n",
      "783/783 [==============================] - 0s - loss: 3.4873e-05     \n",
      "Epoch 16/100\n",
      "783/783 [==============================] - 1s - loss: 3.2114e-05     \n",
      "Epoch 17/100\n",
      "783/783 [==============================] - 1s - loss: 3.2294e-05     \n",
      "Epoch 18/100\n",
      "783/783 [==============================] - 1s - loss: 3.2036e-05     \n",
      "Epoch 19/100\n",
      "783/783 [==============================] - ETA: 0s - loss: 3.1272e-0 - 1s - loss: 3.0972e-05     \n",
      "Epoch 20/100\n",
      "783/783 [==============================] - 1s - loss: 3.5730e-05     \n",
      "Epoch 21/100\n",
      "783/783 [==============================] - 1s - loss: 3.0696e-05     \n",
      "Epoch 22/100\n",
      "783/783 [==============================] - 1s - loss: 3.4070e-05     \n",
      "Epoch 23/100\n",
      "783/783 [==============================] - 1s - loss: 3.2551e-05     \n",
      "Epoch 24/100\n",
      "783/783 [==============================] - 1s - loss: 3.0656e-05     \n",
      "Epoch 25/100\n",
      "783/783 [==============================] - 1s - loss: 3.0090e-05     \n",
      "Epoch 26/100\n",
      "783/783 [==============================] - 1s - loss: 3.2842e-05     \n",
      "Epoch 27/100\n",
      "783/783 [==============================] - 1s - loss: 3.0555e-05     \n",
      "Epoch 28/100\n",
      "783/783 [==============================] - 1s - loss: 3.2663e-05     \n",
      "Epoch 29/100\n",
      "783/783 [==============================] - 1s - loss: 3.3549e-05     \n",
      "Epoch 30/100\n",
      "783/783 [==============================] - 1s - loss: 3.4468e-05     \n",
      "Epoch 31/100\n",
      "783/783 [==============================] - 1s - loss: 3.5529e-05     \n",
      "Epoch 32/100\n",
      "783/783 [==============================] - 1s - loss: 3.3711e-05     \n",
      "Epoch 33/100\n",
      "783/783 [==============================] - 1s - loss: 3.0191e-05     - ETA: 0s - loss: 3.0136e-0\n",
      "Epoch 34/100\n",
      "783/783 [==============================] - 1s - loss: 3.2123e-05     \n",
      "Epoch 35/100\n",
      "783/783 [==============================] - 1s - loss: 3.1231e-05     \n",
      "Epoch 36/100\n",
      "783/783 [==============================] - 1s - loss: 3.1921e-05     \n",
      "Epoch 37/100\n",
      "783/783 [==============================] - 1s - loss: 3.1697e-05     \n",
      "Epoch 38/100\n",
      "783/783 [==============================] - 1s - loss: 3.5025e-05     \n",
      "Epoch 39/100\n",
      "783/783 [==============================] - 1s - loss: 2.9380e-05     - ETA: 1s - lo - ETA: 0s - loss: 2.71\n",
      "Epoch 40/100\n",
      "783/783 [==============================] - 1s - loss: 3.1118e-05     \n",
      "Epoch 41/100\n",
      "783/783 [==============================] - 1s - loss: 3.2234e-05     \n",
      "Epoch 42/100\n",
      "783/783 [==============================] - 1s - loss: 3.0631e-05     \n",
      "Epoch 43/100\n",
      "783/783 [==============================] - 1s - loss: 3.2291e-05     \n",
      "Epoch 44/100\n",
      "783/783 [==============================] - 1s - loss: 3.1563e-05     \n",
      "Epoch 45/100\n",
      "783/783 [==============================] - 1s - loss: 3.2415e-05     \n",
      "Epoch 46/100\n",
      "783/783 [==============================] - 1s - loss: 3.0766e-05     \n",
      "Epoch 47/100\n",
      "783/783 [==============================] - 1s - loss: 3.1242e-05     \n",
      "Epoch 48/100\n",
      "783/783 [==============================] - 1s - loss: 3.0543e-05     \n",
      "Epoch 49/100\n",
      "783/783 [==============================] - 0s - loss: 3.0461e-05     \n",
      "Epoch 50/100\n",
      "783/783 [==============================] - 0s - loss: 3.1155e-05     \n",
      "Epoch 51/100\n",
      "783/783 [==============================] - 0s - loss: 2.9265e-05     \n",
      "Epoch 52/100\n",
      "783/783 [==============================] - 1s - loss: 3.0362e-05     \n",
      "Epoch 53/100\n",
      "783/783 [==============================] - 1s - loss: 3.2334e-05     \n",
      "Epoch 54/100\n",
      "783/783 [==============================] - 1s - loss: 3.2158e-05     \n",
      "Epoch 55/100\n",
      "783/783 [==============================] - 1s - loss: 3.1553e-05     \n",
      "Epoch 56/100\n",
      "783/783 [==============================] - 1s - loss: 2.9636e-05     \n",
      "Epoch 57/100\n",
      "783/783 [==============================] - 1s - loss: 3.0476e-05     \n",
      "Epoch 58/100\n",
      "783/783 [==============================] - 1s - loss: 3.0800e-05     \n",
      "Epoch 59/100\n",
      "783/783 [==============================] - 1s - loss: 3.0617e-05     \n",
      "Epoch 60/100\n",
      "783/783 [==============================] - 1s - loss: 3.2361e-05     \n",
      "Epoch 61/100\n",
      "783/783 [==============================] - 1s - loss: 3.2119e-05     \n",
      "Epoch 62/100\n",
      "783/783 [==============================] - 1s - loss: 3.3061e-05     \n",
      "Epoch 63/100\n",
      "783/783 [==============================] - 1s - loss: 2.9796e-05     \n",
      "Epoch 64/100\n",
      "783/783 [==============================] - 1s - loss: 3.1294e-05     \n",
      "Epoch 65/100\n",
      "783/783 [==============================] - 1s - loss: 3.2850e-05     \n",
      "Epoch 66/100\n",
      "783/783 [==============================] - 1s - loss: 3.1517e-05     \n",
      "Epoch 67/100\n",
      "783/783 [==============================] - 1s - loss: 3.0646e-05     \n",
      "Epoch 68/100\n",
      "783/783 [==============================] - 1s - loss: 3.7390e-05     \n",
      "Epoch 69/100\n",
      "783/783 [==============================] - 1s - loss: 3.1855e-05     \n",
      "Epoch 70/100\n",
      "783/783 [==============================] - 1s - loss: 3.2358e-05     \n",
      "Epoch 71/100\n",
      "783/783 [==============================] - 1s - loss: 3.4496e-05     \n",
      "Epoch 72/100\n",
      "783/783 [==============================] - 1s - loss: 3.1243e-05     \n",
      "Epoch 73/100\n",
      "783/783 [==============================] - 1s - loss: 2.9863e-05     \n",
      "Epoch 74/100\n",
      "783/783 [==============================] - 1s - loss: 3.4413e-05     \n",
      "Epoch 75/100\n",
      "783/783 [==============================] - 1s - loss: 3.3489e-05     \n",
      "Epoch 76/100\n",
      "783/783 [==============================] - 1s - loss: 3.1810e-05     \n",
      "Epoch 77/100\n",
      "783/783 [==============================] - 1s - loss: 3.4095e-05     \n",
      "Epoch 78/100\n",
      "783/783 [==============================] - 1s - loss: 3.0490e-05     - ETA: 0s - loss: 3.\n",
      "Epoch 79/100\n",
      "783/783 [==============================] - 1s - loss: 3.2849e-05     \n",
      "Epoch 80/100\n",
      "783/783 [==============================] - 1s - loss: 3.1228e-05     \n",
      "Epoch 81/100\n",
      "783/783 [==============================] - 1s - loss: 3.0862e-05     \n",
      "Epoch 82/100\n",
      "783/783 [==============================] - 1s - loss: 3.2294e-05     \n",
      "Epoch 83/100\n",
      "783/783 [==============================] - 1s - loss: 3.2993e-05     \n",
      "Epoch 84/100\n",
      "783/783 [==============================] - 1s - loss: 3.1436e-05     \n",
      "Epoch 85/100\n",
      "783/783 [==============================] - 1s - loss: 3.0969e-05     \n",
      "Epoch 86/100\n",
      "783/783 [==============================] - 1s - loss: 3.0969e-05     \n",
      "Epoch 87/100\n",
      "783/783 [==============================] - 1s - loss: 3.3377e-05     \n",
      "Epoch 88/100\n",
      "783/783 [==============================] - 1s - loss: 3.3948e-05     \n",
      "Epoch 89/100\n",
      "783/783 [==============================] - 1s - loss: 3.2007e-05     \n",
      "Epoch 90/100\n",
      "783/783 [==============================] - 1s - loss: 3.1732e-05     \n",
      "Epoch 91/100\n",
      "783/783 [==============================] - 1s - loss: 3.0990e-05     \n",
      "Epoch 92/100\n",
      "783/783 [==============================] - 1s - loss: 3.1608e-05     \n",
      "Epoch 93/100\n",
      "783/783 [==============================] - 1s - loss: 3.3171e-05     \n",
      "Epoch 94/100\n",
      "783/783 [==============================] - 1s - loss: 3.2489e-05     \n",
      "Epoch 95/100\n",
      "783/783 [==============================] - 1s - loss: 3.1753e-05     \n",
      "Epoch 96/100\n",
      "783/783 [==============================] - 1s - loss: 3.1092e-05     \n",
      "Epoch 97/100\n",
      "783/783 [==============================] - 1s - loss: 3.0840e-05     \n",
      "Epoch 98/100\n"
     ]
    },
    {
     "name": "stdout",
     "output_type": "stream",
     "text": [
      "783/783 [==============================] - 1s - loss: 3.2252e-05     \n",
      "Epoch 99/100\n",
      "783/783 [==============================] - 1s - loss: 3.1868e-05     \n",
      "Epoch 100/100\n",
      "783/783 [==============================] - 1s - loss: 3.2288e-05     \n"
     ]
    },
    {
     "data": {
      "text/plain": [
       "<keras.callbacks.History at 0x1ed5bcea240>"
      ]
     },
     "execution_count": 10,
     "metadata": {},
     "output_type": "execute_result"
    }
   ],
   "source": [
    "model.fit(trainX, trainY, epochs=100, batch_size=1)"
   ]
  },
  {
   "cell_type": "code",
   "execution_count": 11,
   "metadata": {},
   "outputs": [
    {
     "name": "stdout",
     "output_type": "stream",
     "text": [
      "Train Score: 0.78 \n",
      "Test Score: 0.73 \n"
     ]
    }
   ],
   "source": [
    "# make predictions\n",
    "trainPredict = model.predict(trainX)\n",
    "testPredict = model.predict(testX)\n",
    "# invert predictions\n",
    "trainPredictT = scaler.inverse_transform(trainPredict)\n",
    "trainYT = scaler.inverse_transform([trainY])\n",
    "testPredictT = scaler.inverse_transform(testPredict)\n",
    "testYT = scaler.inverse_transform([testY])\n",
    "# calculate root mean squared error\n",
    "# trainScore = math.sqrt(mean_squared_error(trainY[0], trainPredict[:,0]))\n",
    "trainScore = relative_error(trainYT[0], trainPredictT[:,0])\n",
    "print('Train Score: %.2f ' % (trainScore))\n",
    "# testScore = math.sqrt(mean_squared_error(testY[0], testPredict[:,0]))\n",
    "testScore = relative_error(testYT[0], testPredictT[:,0])\n",
    "print('Test Score: %.2f ' % (testScore))"
   ]
  },
  {
   "cell_type": "code",
   "execution_count": 12,
   "metadata": {},
   "outputs": [
    {
     "data": {
      "image/png": "[encoded data removed]",
      "text/plain": [
       "<matplotlib.figure.Figure at 0x1ed5be3d9b0>"
      ]
     },
     "metadata": {},
     "output_type": "display_data"
    }
   ],
   "source": [
    "# shift train predictions for plotting\n",
    "trainPredictPlot = numpy.empty_like(dataset)\n",
    "trainPredictPlot[:, :] = numpy.nan\n",
    "trainPredictPlot[look_back:len(trainPredict)+look_back, :] = trainPredict\n",
    "# shift test predictions for plotting\n",
    "testPredictPlot = numpy.empty_like(dataset)\n",
    "testPredictPlot[:, :] = numpy.nan\n",
    "testPredictPlot[len(trainPredictT)+(look_back*2)+1:len(dataset)-1, :] = testPredict\n",
    "# plot baseline and predictions\n",
    "plt.plot(scaler.inverse_transform(dataset))\n",
    "plt.plot(trainPredictPlot)\n",
    "plt.plot(testPredictPlot)\n",
    "plt.show()"
   ]
  },
  {
   "cell_type": "code",
   "execution_count": 13,
   "metadata": {},
   "outputs": [
    {
     "name": "stdout",
     "output_type": "stream",
     "text": [
      "[ 511.20507843]\n"
     ]
    }
   ],
   "source": [
    "nexts = model.predict(testX[-1])\n",
    "tomorrow_close_price = nexts[0][0] * max(data_standard.values)\n",
    "print(tomorrow_close_price[0])"
   ]
  },
  {
   "cell_type": "code",
   "execution_count": 28,
   "metadata": {},
   "outputs": [
    {
     "data": {
      "text/plain": [
       "array([[ 377.27,  376.95,  380.9 ,  385.6 ,  386.71,  388.62,  385.22,\n",
       "         387.71,  386.91,  385.71,  383.32,  385.1 ,  383.87,  383.22,\n",
       "         381.71,  377.9 ,  376.89,  375.79,  378.2 ,  377.82,  379.27,\n",
       "         382.1 ,  385.69,  385.69,  383.8 ,  386.69,  389.37,  391.08,\n",
       "         391.19,  392.21,  393.63,  393.39,  398.59,  399.68,  396.78,\n",
       "         399.71,  401.34,  406.1 ,  409.97,  413.73,  418.35,  419.27,\n",
       "         426.06,  434.19,  447.16,  448.77,  460.12,  462.69,  458.97,\n",
       "         461.42,  465.25,  456.76,  454.16,  447.79,  442.85,  443.37,\n",
       "         452.4 ,  468.09,  479.6 ,  484.01,  487.6 ,  479.79,  483.42,\n",
       "         482.38,  477.36,  488.36,  490.62,  494.03,  493.95,  490.78,\n",
       "         494.83,  476.73,  477.69,  483.69,  465.05,  465.72,  474.56,\n",
       "         477.15,  468.74,  462.12,  471.09,  466.63,  470.68,  476.5 ,\n",
       "         475.34,  473.18,  474.6 ,  481.35,  479.13,  480.48,  487.04,\n",
       "         491.79,  489.99,  493.57,  489.46,  491.26,  490.67,  491.04,\n",
       "         505.81,  509.43,  505.93,  497.35,  502.58,  506.66,  510.49,\n",
       "         496.5 ,  504.07,  494.27,  480.02,  478.07,  483.99,  473.21,\n",
       "         468.43,  473.69,  472.89,  476.59,  474.51,  473.02,  475.24,\n",
       "         488.32,  485.58,  485.07,  486.22,  486.1 ,  488.93,  483.85,\n",
       "         485.97,  490.34,  487.6 ,  492.27,  500.18,  502.23,  498.22,\n",
       "         500.24,  512.41,  516.33,  515.09,  521.45,  518.39,  517.03,\n",
       "         510.69,  514.64,  520.9 ,  527.97,  524.56,  521.95,  518.24,\n",
       "         515.09,  509.03,  498.52,  503.37,  503.37,  499.51,  498.84,\n",
       "         489.74,  473.02,  473.53,  482.95,  481.13,  480.04,  489.84,\n",
       "         487.35,  487.22,  485.66,  482.77,  485.5 ,  484.43,  484.47,\n",
       "         493.99,  494.1 ,  496.22,  497.5 ,  496.84,  503.76,  506.16,\n",
       "         504.29,  494.18,  491.78,  493.93,  485.69,  488.54,  491.85,\n",
       "         492.43,  494.66,  493.66,  496.56,  500.1 ,  498.22,  500.62,\n",
       "         499.46,  497.73,  503.57,  508.22,  507.79,  511.02,  504.81,\n",
       "         502.7 ,  496.12,  486.82,  490.54,  485.57,  473.3 ,  468.55,\n",
       "         472.7 ,  472.17,  471.45,  477.57,  480.03,  470.16,  474.53,\n",
       "         476.4 ,  475.59,  476.42,  475.57,  477.73,  474.26,  476.09,\n",
       "         477.19,  479.09,  482.82,  486.22,  485.11,  486.61,  492.63,\n",
       "         492.24,  494.39,  492.3 ,  497.5 ,  500.47,  502.22,  500.67,\n",
       "         494.81,  494.53,  493.62,  495.72,  498.96,  499.59,  500.83,\n",
       "         501.57,  500.57,  504.05,  501.17,  500.75,  496.46,  497.08,\n",
       "         499.07,  497.41,  497.08,  497.07,  499.79,  502.52,  499.86,\n",
       "         498.61,  501.08,  497.65,  496.12,  497.85,  501.34,  506.48,\n",
       "         504.71,  505.52,  503.54,  505.64,  506.46,  509.16,  508.43,\n",
       "         507.71,  507.78,  508.53,  511.62,  510.88,  510.03,  510.12,\n",
       "         511.23,  511.6 ,  505.31,  506.92,  506.06,  502.04,  505.67,\n",
       "         505.25,  506.28,  504.45,  508.68,  505.62,  504.42,  506.55,\n",
       "         506.41,  500.35,  504.63,  504.51,  505.37,  509.1 ,  510.12,\n",
       "         513.9 ,  516.98,  518.94,  521.11,  522.31,  526.68,  533.54,\n",
       "         543.59,  553.67,  559.91,  551.92,  553.55,  560.19,  556.52,\n",
       "         554.68,  549.76,  555.9 ,  553.9 ,  564.25,  570.18,  572.22,\n",
       "         570.2 ,  574.56,  578.12,  571.04,  570.57,  576.58,  586.2 ,\n",
       "         589.81,  587.79,  586.48,  573.38,  569.97,  574.94,  578.56,\n",
       "         579.75,  583.69,  588.5 ,  590.02,  595.22,  596.83,  600.36,\n",
       "         599.85,  605.59,  600.26,  601.75,  607.55,  601.85,  588.06,\n",
       "         590.14,  594.29,  591.57,  583.85,  581.67,  589.44,  593.04,\n",
       "         600.57,  603.25,  601.33,  600.57,  596.11,  586.09,  574.29,\n",
       "         580.31,  565.33,  558.14,  569.87,  569.36,  570.46,  578.92,\n",
       "         573.1 ,  578.  ,  564.85,  555.11,  559.97,  527.09,  542.46,\n",
       "         517.05,  513.91,  529.53,  524.05,  529.49,  533.04,  537.52,\n",
       "         543.88,  541.73,  541.49,  544.06,  552.75,  557.34,  558.45,\n",
       "         562.02,  556.8 ,  558.76,  553.46,  551.1 ,  559.04,  565.61,\n",
       "         566.89,  570.36,  573.77,  574.48,  572.37,  572.25,  570.03,\n",
       "         567.35,  560.78,  565.92,  569.74,  572.27,  576.4 ,  578.82,\n",
       "         578.13,  578.07,  578.8 ,  585.02,  589.35,  590.69,  591.47,\n",
       "         591.6 ,  584.88,  582.77,  586.23,  589.31,  589.68,  590.37,\n",
       "         596.26,  601.04,  597.98,  597.5 ,  602.06,  600.14,  589.45,\n",
       "         592.24,  589.33,  596.07,  593.9 ,  599.04,  607.73,  606.7 ,\n",
       "         607.62,  605.43,  602.13,  601.78,  602.76,  605.25,  604.24,\n",
       "         605.08,  604.64,  606.7 ,  612.94,  620.14,  625.88,  629.06,\n",
       "         628.77,  632.03,  636.65,  640.75,  640.22,  638.65,  639.85,\n",
       "         626.92,  628.8 ,  628.99,  632.5 ,  630.34,  627.66,  625.66,\n",
       "         615.8 ,  613.29,  611.93,  610.39,  603.59,  605.1 ,  604.98,\n",
       "         599.78,  598.8 ,  609.27,  612.66,  611.55,  614.42,  614.08,\n",
       "         617.26,  624.34,  617.72,  614.22,  605.79,  604.29,  587.17,\n",
       "         585.28,  589.24,  600.55,  601.59,  593.53,  591.51,  580.8 ,\n",
       "         583.13,  591.2 ,  589.14,  600.84,  603.15,  598.39,  597.01,\n",
       "         597.85,  602.59,  602.12,  604.23,  604.01,  603.16,  600.36,\n",
       "         600.93,  594.25,  588.35,  593.32,  588.03,  582.53,  585.91,\n",
       "         576.04,  572.89,  566.58,  568.01,  569.43,  574.88,  578.38,\n",
       "         578.76,  571.68,  555.31,  557.19,  550.11,  553.93,  547.93,\n",
       "         535.14,  518.22,  528.45,  523.09,  537.54,  537.88,  539.44,\n",
       "         532.01,  533.37,  532.68,  537.57,  545.63,  544.45,  549.66,\n",
       "         552.05,  553.47,  569.73,  574.32,  580.6 ,  577.01,  577.74,\n",
       "         574.81,  571.51,  572.22,  569.12,  574.54,  582.38,  580.64,\n",
       "         579.3 ,  583.76,  583.28,  576.07,  570.37,  557.47,  561.45,\n",
       "         567.17,  574.13,  573.55,  574.52,  581.76,  584.67,  587.24,\n",
       "         596.95,  592.66,  596.72,  592.57,  590.73,  596.72,  600.39,\n",
       "         596.91,  593.97,  588.44,  589.66,  586.54,  588.53,  586.1 ,\n",
       "         580.8 ,  581.76,  578.68,  573.74,  575.44,  570.89,  567.43,\n",
       "         560.93,  556.16,  551.42,  545.19,  551.13,  538.91,  546.85,\n",
       "         547.85,  542.97,  548.11,  547.72,  550.52,  554.03,  559.54,\n",
       "         558.67,  564.5 ,  568.28,  568.32,  565.04,  562.24,  562.51,\n",
       "         561.25,  565.77,  562.4 ,  545.08,  552.65,  549.3 ,  552.98,\n",
       "         554.51,  551.67,  544.41,  542.82,  543.69,  537.44,  528.95,\n",
       "         536.82,  550.1 ,  552.56,  561.82,  563.  ,  567.2 ,  566.48,\n",
       "         572.97,  569.56,  574.98,  570.31,  567.9 ,  568.99,  578.07,\n",
       "         579.83,  574.47,  574.1 ,  581.05,  582.73,  586.48,  580.35,\n",
       "         578.87,  580.35,  584.7 ,  594.08,  593.07,  590.02,  587.99,\n",
       "         581.75,  591.75,  593.05,  591.5 ,  605.7 ,  616.43,  625.22,\n",
       "         630.27,  623.17,  622.1 ,  627.28,  634.06,  638.69,  630.89,\n",
       "         626.9 ,  628.63,  620.54,  616.61,  629.85,  632.01,  631.26,\n",
       "         635.46,  631.47,  624.7 ,  626.57,  621.06,  609.47,  600.76,\n",
       "         607.08,  601.04,  603.76,  614.53,  613.05,  604.24,  594.26,\n",
       "         589.03,  573.15,  580.22,  577.82,  566.69,  556.3 ,  526.93,\n",
       "         529.98,  545.89,  555.81,  570.87,  564.75,  562.31,  554.3 ,\n",
       "         556.81,  554.93,  566.72,  572.34,  572.07,  566.74,  562.17,\n",
       "         563.27,  564.13,  562.48,  566.25,  572.12,  573.2 ,  572.72,\n",
       "         570.25,  570.38,  564.88,  561.19,  562.64,  563.54,  562.31,\n",
       "         570.  ,  581.29,  579.57,  586.78,  588.02,  592.1 ,  590.84,\n",
       "         589.98,  592.4 ,  593.02,  594.61,  590.45,  590.24,  595.08,\n",
       "         601.74,  598.61,  598.44,  596.24,  605.2 ,  607.37,  602.76,\n",
       "         611.71,  610.6 ,  615.18,  612.36,  610.66,  605.27,  603.53,\n",
       "         605.58,  611.27,  609.21,  605.05,  603.34,  601.9 ,  604.46,\n",
       "         599.99,  593.83,  595.7 ,  590.4 ,  582.86,  573.2 ,  570.41,\n",
       "         574.42,  574.38,  571.62,  563.62,  574.15,  565.2 ,  561.04,\n",
       "         563.43,  562.22,  568.  ,  572.55,  577.11,  568.18,  566.9 ,\n",
       "         566.35,  564.27,  566.17,  567.67,  569.9 ,  576.29]])"
      ]
     },
     "execution_count": 28,
     "metadata": {},
     "output_type": "execute_result"
    }
   ],
   "source": [
    "trainYT"
   ]
  },
  {
   "cell_type": "code",
   "execution_count": 39,
   "metadata": {},
   "outputs": [],
   "source": [
    "predictTrain = model.predict(trainX)\n",
    "predictTrain = scaler.inverse_transform(predictTrain)"
   ]
  },
  {
   "cell_type": "code",
   "execution_count": 52,
   "metadata": {},
   "outputs": [
    {
     "data": {
      "text/plain": [
       "array([ 0.78474808], dtype=float32)"
      ]
     },
     "execution_count": 52,
     "metadata": {},
     "output_type": "execute_result"
    }
   ],
   "source": [
    "relative_error(predictTrain, trainYT[0])"
   ]
  },
  {
   "cell_type": "code",
   "execution_count": null,
   "metadata": {},
   "outputs": [],
   "source": []
  },
  {
   "cell_type": "code",
   "execution_count": null,
   "metadata": {},
   "outputs": [],
   "source": []
  },
  {
   "cell_type": "raw",
   "metadata": {},
   "source": []
  },
  {
   "cell_type": "code",
   "execution_count": null,
   "metadata": {},
   "outputs": [],
   "source": []
  },
  {
   "cell_type": "code",
   "execution_count": null,
   "metadata": {},
   "outputs": [],
   "source": []
  },
  {
   "cell_type": "code",
   "execution_count": null,
   "metadata": {},
   "outputs": [],
   "source": []
  },
  {
   "cell_type": "code",
   "execution_count": null,
   "metadata": {
    "collapsed": true
   },
   "outputs": [],
   "source": []
  },
  {
   "cell_type": "code",
   "execution_count": null,
   "metadata": {},
   "outputs": [],
   "source": []
  },
  {
   "cell_type": "code",
   "execution_count": null,
   "metadata": {
    "collapsed": true
   },
   "outputs": [],
   "source": []
  }
 ],
 "metadata": {
  "kernelspec": {
   "display_name": "Python 3",
   "language": "python",
   "name": "python3"
  },
  "language_info": {
   "codemirror_mode": {
    "name": "ipython",
    "version": 3
   },
   "file_extension": ".py",
   "mimetype": "text/x-python",
   "name": "python",
   "nbconvert_exporter": "python",
   "pygments_lexer": "ipython3",
   "version": "3.5.2"
  }
 },
 "nbformat": 4,
 "nbformat_minor": 2
}
