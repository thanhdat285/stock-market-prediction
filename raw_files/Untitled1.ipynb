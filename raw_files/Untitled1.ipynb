{
 "cells": [
  {
   "cell_type": "code",
   "execution_count": 1,
   "metadata": {},
   "outputs": [
    {
     "name": "stderr",
     "output_type": "stream",
     "text": [
      "Using TensorFlow backend.\n"
     ]
    }
   ],
   "source": [
    "import numpy\n",
    "import matplotlib.pyplot as plt\n",
    "import pandas\n",
    "import math\n",
    "from keras.models import Sequential\n",
    "from keras.layers import Dense\n",
    "from keras.layers import LSTM\n",
    "from sklearn.preprocessing import MinMaxScaler\n",
    "from sklearn.metrics import mean_squared_error"
   ]
  },
  {
   "cell_type": "code",
   "execution_count": 2,
   "metadata": {
    "collapsed": true
   },
   "outputs": [],
   "source": [
    "def showGraph(data):\n",
    "    plt.plot(data)\n",
    "    plt.show()\n",
    "# convert dataset to x and y\n",
    "def create_dataset(dataset, look_back=1):\n",
    "    dataX, dataY = [], []\n",
    "    for i in range(len(dataset) - look_back - 1):\n",
    "        a = dataset[i:(i+look_back), 0]\n",
    "        dataX.append(a)\n",
    "        dataY.append(dataset[i + look_back, 0])\n",
    "    return numpy.array(dataX), numpy.array(dataY)\n",
    "def relative_error(xs, ys):\n",
    "    error = 0\n",
    "    zero = 0\n",
    "    for i in range(len(xs)):\n",
    "        if ys[i] != 0:\n",
    "            error += abs(xs[i]-ys[i])*100 / ys[i]\n",
    "        else:\n",
    "            zero += 1\n",
    "    error /= (len(xs) - zero)\n",
    "    return error"
   ]
  },
  {
   "cell_type": "code",
   "execution_count": 3,
   "metadata": {
    "collapsed": true
   },
   "outputs": [],
   "source": [
    "# load the dataset\n",
    "dataframe = pandas.read_csv('data_stock_market.csv', usecols=[1], engine='python', skipfooter=3)\n",
    "dataset = dataframe.values\n",
    "dataset = dataset.astype('float32')\n",
    "\n"
   ]
  },
  {
   "cell_type": "code",
   "execution_count": 4,
   "metadata": {},
   "outputs": [
    {
     "data": {
      "image/png": "[encoded data removed]",
      "text/plain": [
       "<matplotlib.figure.Figure at 0x19503e4f978>"
      ]
     },
     "metadata": {},
     "output_type": "display_data"
    }
   ],
   "source": [
    "showGraph(dataset)\n",
    "# normalize the dataset\n",
    "scaler = MinMaxScaler(feature_range=(0, 1))\n",
    "dataset = scaler.fit_transform(dataset)"
   ]
  },
  {
   "cell_type": "code",
   "execution_count": 5,
   "metadata": {},
   "outputs": [
    {
     "name": "stdout",
     "output_type": "stream",
     "text": [
      "783 387\n"
     ]
    }
   ],
   "source": [
    "# split into train and test sets\n",
    "train_size = int(len(dataset) * 0.67)\n",
    "test_size = len(dataset) - train_size\n",
    "train, test = dataset[0:train_size,:], dataset[train_size:len(dataset),:]\n",
    "print(len(train), len(test))"
   ]
  },
  {
   "cell_type": "code",
   "execution_count": 6,
   "metadata": {
    "collapsed": true
   },
   "outputs": [],
   "source": [
    "# reshape into X=t and Y=t+1\n",
    "look_back = 1\n",
    "trainX, trainY = create_dataset(train, look_back)\n",
    "testX, testY = create_dataset(test, look_back)"
   ]
  },
  {
   "cell_type": "code",
   "execution_count": 7,
   "metadata": {
    "collapsed": true
   },
   "outputs": [],
   "source": [
    "# reshape input to be [samples, time steps, features]\n",
    "trainX = numpy.reshape(trainX, (trainX.shape[0], 1, trainX.shape[1]))\n",
    "testX = numpy.reshape(testX, (testX.shape[0], 1, testX.shape[1]))"
   ]
  },
  {
   "cell_type": "code",
   "execution_count": 8,
   "metadata": {},
   "outputs": [
    {
     "name": "stdout",
     "output_type": "stream",
     "text": [
      "Epoch 1/100\n",
      "3s - loss: 0.0387\n",
      "Epoch 2/100\n",
      "2s - loss: 0.0088\n",
      "Epoch 3/100\n",
      "1s - loss: 0.0033\n",
      "Epoch 4/100\n",
      "2s - loss: 6.3725e-04\n",
      "Epoch 5/100\n",
      "2s - loss: 2.6622e-04\n",
      "Epoch 6/100\n",
      "2s - loss: 2.5708e-04\n",
      "Epoch 7/100\n",
      "2s - loss: 2.5358e-04\n",
      "Epoch 8/100\n",
      "1s - loss: 2.5952e-04\n",
      "Epoch 9/100\n",
      "1s - loss: 2.4635e-04\n",
      "Epoch 10/100\n",
      "2s - loss: 2.4054e-04\n",
      "Epoch 11/100\n",
      "2s - loss: 2.3252e-04\n",
      "Epoch 12/100\n",
      "2s - loss: 2.2356e-04\n",
      "Epoch 13/100\n",
      "2s - loss: 2.3190e-04\n",
      "Epoch 14/100\n",
      "2s - loss: 2.2532e-04\n",
      "Epoch 15/100\n",
      "1s - loss: 2.2205e-04\n",
      "Epoch 16/100\n",
      "2s - loss: 2.3234e-04\n",
      "Epoch 17/100\n",
      "1s - loss: 2.2667e-04\n",
      "Epoch 18/100\n",
      "2s - loss: 2.2741e-04\n",
      "Epoch 19/100\n",
      "2s - loss: 2.2414e-04\n",
      "Epoch 20/100\n",
      "2s - loss: 2.2369e-04\n",
      "Epoch 21/100\n",
      "2s - loss: 2.2527e-04\n",
      "Epoch 22/100\n",
      "2s - loss: 2.2368e-04\n",
      "Epoch 23/100\n",
      "2s - loss: 2.2328e-04\n",
      "Epoch 24/100\n",
      "2s - loss: 2.2236e-04\n",
      "Epoch 25/100\n",
      "2s - loss: 2.1539e-04\n",
      "Epoch 26/100\n",
      "2s - loss: 2.2609e-04\n",
      "Epoch 27/100\n",
      "2s - loss: 2.2496e-04\n",
      "Epoch 28/100\n",
      "2s - loss: 2.1952e-04\n",
      "Epoch 29/100\n",
      "2s - loss: 2.2433e-04\n",
      "Epoch 30/100\n",
      "2s - loss: 2.2464e-04\n",
      "Epoch 31/100\n",
      "2s - loss: 2.1912e-04\n",
      "Epoch 32/100\n",
      "2s - loss: 2.1085e-04\n",
      "Epoch 33/100\n",
      "2s - loss: 2.2234e-04\n",
      "Epoch 34/100\n",
      "2s - loss: 2.1934e-04\n",
      "Epoch 35/100\n",
      "2s - loss: 2.2797e-04\n",
      "Epoch 36/100\n",
      "2s - loss: 2.2059e-04\n",
      "Epoch 37/100\n",
      "2s - loss: 2.1916e-04\n",
      "Epoch 38/100\n",
      "2s - loss: 2.2660e-04\n",
      "Epoch 39/100\n",
      "2s - loss: 2.2207e-04\n",
      "Epoch 40/100\n",
      "2s - loss: 2.2045e-04\n",
      "Epoch 41/100\n",
      "2s - loss: 2.1592e-04\n",
      "Epoch 42/100\n",
      "2s - loss: 2.1658e-04\n",
      "Epoch 43/100\n",
      "2s - loss: 2.1742e-04\n",
      "Epoch 44/100\n",
      "2s - loss: 2.2336e-04\n",
      "Epoch 45/100\n",
      "2s - loss: 2.2692e-04\n",
      "Epoch 46/100\n",
      "2s - loss: 2.1422e-04\n",
      "Epoch 47/100\n",
      "2s - loss: 2.2325e-04\n",
      "Epoch 48/100\n",
      "2s - loss: 2.2218e-04\n",
      "Epoch 49/100\n",
      "2s - loss: 2.2873e-04\n",
      "Epoch 50/100\n",
      "2s - loss: 2.1943e-04\n",
      "Epoch 51/100\n",
      "2s - loss: 2.2135e-04\n",
      "Epoch 52/100\n",
      "2s - loss: 2.2550e-04\n",
      "Epoch 53/100\n",
      "2s - loss: 2.1996e-04\n",
      "Epoch 54/100\n",
      "2s - loss: 2.1663e-04\n",
      "Epoch 55/100\n",
      "2s - loss: 2.2281e-04\n",
      "Epoch 56/100\n",
      "2s - loss: 2.1902e-04\n",
      "Epoch 57/100\n",
      "2s - loss: 2.2260e-04\n",
      "Epoch 58/100\n",
      "2s - loss: 2.2355e-04\n",
      "Epoch 59/100\n",
      "1s - loss: 2.2613e-04\n",
      "Epoch 60/100\n",
      "1s - loss: 2.1848e-04\n",
      "Epoch 61/100\n",
      "2s - loss: 2.1547e-04\n",
      "Epoch 62/100\n",
      "2s - loss: 2.2058e-04\n",
      "Epoch 63/100\n",
      "2s - loss: 2.1358e-04\n",
      "Epoch 64/100\n",
      "2s - loss: 2.2640e-04\n",
      "Epoch 65/100\n",
      "2s - loss: 2.1943e-04\n",
      "Epoch 66/100\n",
      "2s - loss: 2.1829e-04\n",
      "Epoch 67/100\n",
      "2s - loss: 2.2262e-04\n",
      "Epoch 68/100\n",
      "2s - loss: 2.1969e-04\n",
      "Epoch 69/100\n",
      "2s - loss: 2.3128e-04\n",
      "Epoch 70/100\n",
      "2s - loss: 2.2440e-04\n",
      "Epoch 71/100\n",
      "2s - loss: 2.1596e-04\n",
      "Epoch 72/100\n",
      "2s - loss: 2.1700e-04\n",
      "Epoch 73/100\n",
      "2s - loss: 2.2004e-04\n",
      "Epoch 74/100\n",
      "2s - loss: 2.1889e-04\n",
      "Epoch 75/100\n",
      "2s - loss: 2.2706e-04\n",
      "Epoch 76/100\n",
      "2s - loss: 2.1766e-04\n",
      "Epoch 77/100\n",
      "2s - loss: 2.1517e-04\n",
      "Epoch 78/100\n",
      "2s - loss: 2.2022e-04\n",
      "Epoch 79/100\n",
      "2s - loss: 2.1341e-04\n",
      "Epoch 80/100\n",
      "2s - loss: 2.2461e-04\n",
      "Epoch 81/100\n",
      "2s - loss: 2.1427e-04\n",
      "Epoch 82/100\n",
      "2s - loss: 2.2346e-04\n",
      "Epoch 83/100\n",
      "2s - loss: 2.2243e-04\n",
      "Epoch 84/100\n",
      "1s - loss: 2.2326e-04\n",
      "Epoch 85/100\n",
      "2s - loss: 2.1678e-04\n",
      "Epoch 86/100\n",
      "2s - loss: 2.1871e-04\n",
      "Epoch 87/100\n",
      "2s - loss: 2.2256e-04\n",
      "Epoch 88/100\n",
      "1s - loss: 2.1974e-04\n",
      "Epoch 89/100\n",
      "2s - loss: 2.1705e-04\n",
      "Epoch 90/100\n",
      "2s - loss: 2.1949e-04\n",
      "Epoch 91/100\n",
      "2s - loss: 2.2018e-04\n",
      "Epoch 92/100\n",
      "1s - loss: 2.1625e-04\n",
      "Epoch 93/100\n",
      "2s - loss: 2.2206e-04\n",
      "Epoch 94/100\n",
      "2s - loss: 2.2332e-04\n",
      "Epoch 95/100\n",
      "2s - loss: 2.2004e-04\n",
      "Epoch 96/100\n",
      "2s - loss: 2.2017e-04\n",
      "Epoch 97/100\n",
      "3s - loss: 2.2472e-04\n",
      "Epoch 98/100\n",
      "2s - loss: 2.2645e-04\n",
      "Epoch 99/100\n",
      "2s - loss: 2.2101e-04\n",
      "Epoch 100/100\n",
      "2s - loss: 2.2668e-04\n"
     ]
    },
    {
     "data": {
      "text/plain": [
       "<keras.callbacks.History at 0x195060cf7f0>"
      ]
     },
     "execution_count": 8,
     "metadata": {},
     "output_type": "execute_result"
    }
   ],
   "source": [
    "# create and fit the LSTM network\n",
    "model = Sequential()\n",
    "model.add(LSTM(4, input_shape=(1, look_back)))\n",
    "model.add(Dense(1))\n",
    "model.compile(loss='mean_squared_error', optimizer='adam')\n",
    "model.fit(trainX, trainY, epochs=100, batch_size=1, verbose=2)"
   ]
  },
  {
   "cell_type": "code",
   "execution_count": null,
   "metadata": {
    "collapsed": true
   },
   "outputs": [],
   "source": []
  },
  {
   "cell_type": "code",
   "execution_count": 9,
   "metadata": {},
   "outputs": [
    {
     "name": "stdout",
     "output_type": "stream",
     "text": [
      "Train Score: 0.93 \n",
      "Test Score: 1.67 \n"
     ]
    }
   ],
   "source": [
    "# make predictions\n",
    "trainPredict = model.predict(trainX)\n",
    "testPredict = model.predict(testX)\n",
    "# invert predictions\n",
    "trainPredictT = scaler.inverse_transform(trainPredict)\n",
    "trainYT = scaler.inverse_transform([trainY])\n",
    "testPredictT = scaler.inverse_transform(testPredict)\n",
    "testYT = scaler.inverse_transform([testY])\n",
    "# calculate root mean squared error\n",
    "# trainScore = math.sqrt(mean_squared_error(trainY[0], trainPredict[:,0]))\n",
    "trainScore = relative_error(trainYT[0], trainPredictT[:,0])\n",
    "print('Train Score: %.2f ' % (trainScore))\n",
    "# testScore = math.sqrt(mean_squared_error(testY[0], testPredict[:,0]))\n",
    "testScore = relative_error(testYT[0], testPredictT[:,0])\n",
    "print('Test Score: %.2f ' % (testScore))"
   ]
  },
  {
   "cell_type": "code",
   "execution_count": null,
   "metadata": {},
   "outputs": [],
   "source": []
  },
  {
   "cell_type": "code",
   "execution_count": 10,
   "metadata": {},
   "outputs": [
    {
     "data": {
      "image/png": "[encoded data removed]",
      "text/plain": [
       "<matplotlib.figure.Figure at 0x19506224048>"
      ]
     },
     "metadata": {},
     "output_type": "display_data"
    }
   ],
   "source": [
    "# shift train predictions for plotting\n",
    "trainPredictPlot = numpy.empty_like(dataset)\n",
    "trainPredictPlot[:, :] = numpy.nan\n",
    "trainPredictPlot[look_back:len(trainPredictT)+look_back, :] = trainPredictT\n",
    "# shift test predictions for plotting\n",
    "testPredictPlot = numpy.empty_like(dataset)\n",
    "testPredictPlot[:, :] = numpy.nan\n",
    "testPredictPlot[len(trainPredictT)+(look_back*2)+1:len(dataset)-1, :] = testPredictT\n",
    "# plot baseline and predictions\n",
    "plt.plot(scaler.inverse_transform(dataset))\n",
    "plt.plot(trainPredictPlot)\n",
    "plt.plot(testPredictPlot)\n",
    "plt.show()"
   ]
  },
  {
   "cell_type": "code",
   "execution_count": null,
   "metadata": {
    "collapsed": true
   },
   "outputs": [],
   "source": []
  }
 ],
 "metadata": {
  "kernelspec": {
   "display_name": "Python 3",
   "language": "python",
   "name": "python3"
  },
  "language_info": {
   "codemirror_mode": {
    "name": "ipython",
    "version": 3
   },
   "file_extension": ".py",
   "mimetype": "text/x-python",
   "name": "python",
   "nbconvert_exporter": "python",
   "pygments_lexer": "ipython3",
   "version": "3.5.2"
  }
 },
 "nbformat": 4,
 "nbformat_minor": 2
}
